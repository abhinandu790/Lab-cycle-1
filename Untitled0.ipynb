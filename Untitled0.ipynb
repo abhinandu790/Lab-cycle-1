{
  "nbformat": 4,
  "nbformat_minor": 0,
  "metadata": {
    "colab": {
      "provenance": []
    },
    "kernelspec": {
      "name": "python3",
      "display_name": "Python 3"
    },
    "language_info": {
      "name": "python"
    }
  },
  "cells": [
    {
      "cell_type": "markdown",
      "source": [
        "\n",
        "5. Develop a program to read a string and perform the following\n",
        "operations:\n",
        "\n",
        "• Print all possible substrings.\n",
        "\n",
        "• Print all possible substrings of length K.\n",
        "\n",
        "• Print all possible substrings of length K with N\n",
        "  distinct characters.\n",
        "\n",
        "• Print substring(s) of length maximum length with N\n",
        "  distinct characters.\n",
        "\n",
        "• Print all palindrome substrings.\n",
        "\n",
        "Define function for each of the task."
      ],
      "metadata": {
        "id": "zTPsQuQhELq5"
      }
    },
    {
      "cell_type": "code",
      "execution_count": null,
      "metadata": {
        "id": "IfmKaNU7EK2J"
      },
      "outputs": [],
      "source": [
        "def all_substrings(input_string):\n",
        "    length = len(input_string)\n",
        "    return [input_string[i: j] for i in range(length) for j in range(i + 1, length + 1)]\n",
        "\n",
        "def substrings_of_length_k(input_string, k):\n",
        "    length = len(input_string)\n",
        "    return [input_string[i: j] for i in range(length) for j in range(i + 1, length + 1) if len(input_string[i:j]) == k]\n",
        "\n",
        "def substrings_of_length_k_with_n_distinct_chars(input_string, k, n):\n",
        "    length = len(input_string)\n",
        "    return [input_string[i: j] for i in range(length) for j in range(i + 1, length + 1) if len(input_string[i:j]) == k and len(set(input_string[i:j])) == n]\n",
        "\n",
        "def max_length_substring_with_n_distinct_chars(input_string, n):\n",
        "    length = len(input_string)\n",
        "    substrings = [input_string[i: j] for i in range(length) for j in range(i + 1, length + 1) if len(set(input_string[i:j])) == n]\n",
        "    max_length_substring = max(substrings, key=len)\n",
        "    return max_length_substring\n",
        "\n",
        "def all_palindrome_substrings(input_string):\n",
        "    length = len(input_string)\n",
        "    return [input_string[i: j] for i in range(length) for j in range(i + 1, length + 1) if input_string[i:j] == input_string[i:j][::-1]]\n",
        "\n",
        
        "input_string = input(\"Enter a string: \")\n",
        "k = int(input(\"Enter the length K: \"))\n",
        "n = int(input(\"Enter the number of distinct characters N: \"))\n",
        "\n",
        
        "print(\"All substrings:\", all_substrings(input_string))\n",
        "print(\"Substrings of length K:\", substrings_of_length_k(input_string, k))\n",
        "print(\"Substrings of length K with N distinct characters:\", substrings_of_length_k_with_n_distinct_chars(input_string, k, n))\n",
        "print(\"Max length substring with N distinct characters:\", max_length_substring_with_n_distinct_chars(input_string, n))\n",
        "print(\"All palindrome substrings:\", all_palindrome_substrings(input_string))\n"
      ]
    }
  ]
}
